{
 "cells": [
  {
   "cell_type": "markdown",
   "id": "d538bd51",
   "metadata": {},
   "source": [
    "# Project: CoDoctor\n",
    "\n",
    "- Name: Dhanu Sree Suresh\n",
    "- Aim: To predict disease based on symptoms inputed by the user"
   ]
  },
  {
   "cell_type": "code",
   "execution_count": null,
   "id": "e8489875",
   "metadata": {},
   "outputs": [],
   "source": [
    "pip uninstall streamlit"
   ]
  },
  {
   "cell_type": "code",
   "execution_count": 2,
   "id": "9981fba5",
   "metadata": {},
   "outputs": [
    {
     "name": "stdout",
     "output_type": "stream",
     "text": [
      "Requirement already satisfied: numpy in c:\\users\\hp\\anaconda3\\envs\\env\\lib\\site-packages (1.21.5)\n"
     ]
    },
    {
     "name": "stderr",
     "output_type": "stream",
     "text": [
      "WARNING: Ignoring invalid distribution -rotobuf (c:\\users\\hp\\anaconda3\\envs\\env\\lib\\site-packages)\n",
      "WARNING: Ignoring invalid distribution -rotobuf (c:\\users\\hp\\anaconda3\\envs\\env\\lib\\site-packages)\n",
      "WARNING: Ignoring invalid distribution -rotobuf (c:\\users\\hp\\anaconda3\\envs\\env\\lib\\site-packages)\n",
      "WARNING: Ignoring invalid distribution -rotobuf (c:\\users\\hp\\anaconda3\\envs\\env\\lib\\site-packages)\n",
      "WARNING: Ignoring invalid distribution -rotobuf (c:\\users\\hp\\anaconda3\\envs\\env\\lib\\site-packages)\n",
      "WARNING: Ignoring invalid distribution -rotobuf (c:\\users\\hp\\anaconda3\\envs\\env\\lib\\site-packages)\n"
     ]
    },
    {
     "name": "stdout",
     "output_type": "stream",
     "text": [
      "Requirement already satisfied: scipy in c:\\users\\hp\\anaconda3\\envs\\env\\lib\\site-packages (1.7.3)\n",
      "Requirement already satisfied: numpy<1.23.0,>=1.16.5 in c:\\users\\hp\\anaconda3\\envs\\env\\lib\\site-packages (from scipy) (1.21.5)\n"
     ]
    },
    {
     "name": "stderr",
     "output_type": "stream",
     "text": [
      "WARNING: Ignoring invalid distribution -rotobuf (c:\\users\\hp\\anaconda3\\envs\\env\\lib\\site-packages)\n",
      "WARNING: Ignoring invalid distribution -rotobuf (c:\\users\\hp\\anaconda3\\envs\\env\\lib\\site-packages)\n",
      "WARNING: Ignoring invalid distribution -rotobuf (c:\\users\\hp\\anaconda3\\envs\\env\\lib\\site-packages)\n",
      "WARNING: Ignoring invalid distribution -rotobuf (c:\\users\\hp\\anaconda3\\envs\\env\\lib\\site-packages)\n",
      "WARNING: Ignoring invalid distribution -rotobuf (c:\\users\\hp\\anaconda3\\envs\\env\\lib\\site-packages)\n",
      "WARNING: Ignoring invalid distribution -rotobuf (c:\\users\\hp\\anaconda3\\envs\\env\\lib\\site-packages)\n",
      "WARNING: Ignoring invalid distribution -rotobuf (c:\\users\\hp\\anaconda3\\envs\\env\\lib\\site-packages)\n",
      "WARNING: Ignoring invalid distribution -rotobuf (c:\\users\\hp\\anaconda3\\envs\\env\\lib\\site-packages)\n",
      "WARNING: Ignoring invalid distribution -rotobuf (c:\\users\\hp\\anaconda3\\envs\\env\\lib\\site-packages)\n",
      "WARNING: Ignoring invalid distribution -rotobuf (c:\\users\\hp\\anaconda3\\envs\\env\\lib\\site-packages)\n",
      "WARNING: Ignoring invalid distribution -rotobuf (c:\\users\\hp\\anaconda3\\envs\\env\\lib\\site-packages)\n",
      "WARNING: Ignoring invalid distribution -rotobuf (c:\\users\\hp\\anaconda3\\envs\\env\\lib\\site-packages)\n"
     ]
    },
    {
     "name": "stdout",
     "output_type": "stream",
     "text": [
      "Requirement already satisfied: keras in c:\\users\\hp\\anaconda3\\envs\\env\\lib\\site-packages (2.10.0)\n",
      "Requirement already satisfied: pandas in c:\\users\\hp\\anaconda3\\envs\\env\\lib\\site-packages (1.3.5)\n",
      "Requirement already satisfied: pytz>=2017.3 in c:\\users\\hp\\anaconda3\\envs\\env\\lib\\site-packages (from pandas) (2022.7)\n",
      "Requirement already satisfied: python-dateutil>=2.7.3 in c:\\users\\hp\\anaconda3\\envs\\env\\lib\\site-packages (from pandas) (2.8.2)\n",
      "Requirement already satisfied: numpy>=1.17.3 in c:\\users\\hp\\anaconda3\\envs\\env\\lib\\site-packages (from pandas) (1.21.5)\n",
      "Requirement already satisfied: six>=1.5 in c:\\users\\hp\\anaconda3\\envs\\env\\lib\\site-packages (from python-dateutil>=2.7.3->pandas) (1.16.0)\n"
     ]
    },
    {
     "name": "stderr",
     "output_type": "stream",
     "text": [
      "WARNING: Ignoring invalid distribution -rotobuf (c:\\users\\hp\\anaconda3\\envs\\env\\lib\\site-packages)\n",
      "WARNING: Ignoring invalid distribution -rotobuf (c:\\users\\hp\\anaconda3\\envs\\env\\lib\\site-packages)\n",
      "WARNING: Ignoring invalid distribution -rotobuf (c:\\users\\hp\\anaconda3\\envs\\env\\lib\\site-packages)\n",
      "WARNING: Ignoring invalid distribution -rotobuf (c:\\users\\hp\\anaconda3\\envs\\env\\lib\\site-packages)\n",
      "WARNING: Ignoring invalid distribution -rotobuf (c:\\users\\hp\\anaconda3\\envs\\env\\lib\\site-packages)\n",
      "WARNING: Ignoring invalid distribution -rotobuf (c:\\users\\hp\\anaconda3\\envs\\env\\lib\\site-packages)\n"
     ]
    },
    {
     "name": "stdout",
     "output_type": "stream",
     "text": [
      "Requirement already satisfied: seaborn in c:\\users\\hp\\anaconda3\\envs\\env\\lib\\site-packages (0.12.2)"
     ]
    },
    {
     "name": "stderr",
     "output_type": "stream",
     "text": [
      "WARNING: Ignoring invalid distribution -rotobuf (c:\\users\\hp\\anaconda3\\envs\\env\\lib\\site-packages)\n",
      "WARNING: Ignoring invalid distribution -rotobuf (c:\\users\\hp\\anaconda3\\envs\\env\\lib\\site-packages)\n",
      "WARNING: Ignoring invalid distribution -rotobuf (c:\\users\\hp\\anaconda3\\envs\\env\\lib\\site-packages)\n",
      "WARNING: Ignoring invalid distribution -rotobuf (c:\\users\\hp\\anaconda3\\envs\\env\\lib\\site-packages)\n",
      "WARNING: Ignoring invalid distribution -rotobuf (c:\\users\\hp\\anaconda3\\envs\\env\\lib\\site-packages)\n",
      "WARNING: Ignoring invalid distribution -rotobuf (c:\\users\\hp\\anaconda3\\envs\\env\\lib\\site-packages)\n"
     ]
    },
    {
     "name": "stdout",
     "output_type": "stream",
     "text": [
      "\n",
      "Requirement already satisfied: pandas>=0.25 in c:\\users\\hp\\anaconda3\\envs\\env\\lib\\site-packages (from seaborn) (1.3.5)\n",
      "Requirement already satisfied: matplotlib!=3.6.1,>=3.1 in c:\\users\\hp\\anaconda3\\envs\\env\\lib\\site-packages (from seaborn) (3.5.3)\n",
      "Requirement already satisfied: typing_extensions in c:\\users\\hp\\anaconda3\\envs\\env\\lib\\site-packages (from seaborn) (4.7.1)\n",
      "Requirement already satisfied: numpy!=1.24.0,>=1.17 in c:\\users\\hp\\anaconda3\\envs\\env\\lib\\site-packages (from seaborn) (1.21.5)\n",
      "Requirement already satisfied: cycler>=0.10 in c:\\users\\hp\\anaconda3\\envs\\env\\lib\\site-packages (from matplotlib!=3.6.1,>=3.1->seaborn) (0.11.0)\n",
      "Requirement already satisfied: pyparsing>=2.2.1 in c:\\users\\hp\\anaconda3\\envs\\env\\lib\\site-packages (from matplotlib!=3.6.1,>=3.1->seaborn) (3.0.9)\n",
      "Requirement already satisfied: fonttools>=4.22.0 in c:\\users\\hp\\anaconda3\\envs\\env\\lib\\site-packages (from matplotlib!=3.6.1,>=3.1->seaborn) (4.25.0)\n",
      "Requirement already satisfied: pillow>=6.2.0 in c:\\users\\hp\\anaconda3\\envs\\env\\lib\\site-packages (from matplotlib!=3.6.1,>=3.1->seaborn) (9.4.0)\n",
      "Requirement already satisfied: python-dateutil>=2.7 in c:\\users\\hp\\anaconda3\\envs\\env\\lib\\site-packages (from matplotlib!=3.6.1,>=3.1->seaborn) (2.8.2)\n",
      "Requirement already satisfied: kiwisolver>=1.0.1 in c:\\users\\hp\\anaconda3\\envs\\env\\lib\\site-packages (from matplotlib!=3.6.1,>=3.1->seaborn) (1.4.4)\n",
      "Requirement already satisfied: packaging>=20.0 in c:\\users\\hp\\anaconda3\\envs\\env\\lib\\site-packages (from matplotlib!=3.6.1,>=3.1->seaborn) (22.0)\n",
      "Requirement already satisfied: pytz>=2017.3 in c:\\users\\hp\\anaconda3\\envs\\env\\lib\\site-packages (from pandas>=0.25->seaborn) (2022.7)\n",
      "Requirement already satisfied: six>=1.5 in c:\\users\\hp\\anaconda3\\envs\\env\\lib\\site-packages (from python-dateutil>=2.7->matplotlib!=3.6.1,>=3.1->seaborn) (1.16.0)\n",
      "Requirement already satisfied: tabulate in c:\\users\\hp\\anaconda3\\envs\\env\\lib\\site-packages (0.9.0)\n"
     ]
    },
    {
     "name": "stderr",
     "output_type": "stream",
     "text": [
      "WARNING: Ignoring invalid distribution -rotobuf (c:\\users\\hp\\anaconda3\\envs\\env\\lib\\site-packages)\n",
      "WARNING: Ignoring invalid distribution -rotobuf (c:\\users\\hp\\anaconda3\\envs\\env\\lib\\site-packages)\n",
      "WARNING: Ignoring invalid distribution -rotobuf (c:\\users\\hp\\anaconda3\\envs\\env\\lib\\site-packages)\n",
      "WARNING: Ignoring invalid distribution -rotobuf (c:\\users\\hp\\anaconda3\\envs\\env\\lib\\site-packages)\n",
      "WARNING: Ignoring invalid distribution -rotobuf (c:\\users\\hp\\anaconda3\\envs\\env\\lib\\site-packages)\n",
      "WARNING: Ignoring invalid distribution -rotobuf (c:\\users\\hp\\anaconda3\\envs\\env\\lib\\site-packages)\n"
     ]
    },
    {
     "name": "stdout",
     "output_type": "stream",
     "text": [
      "Requirement already satisfied: matplotlib in c:\\users\\hp\\anaconda3\\envs\\env\\lib\\site-packages (3.5.3)\n",
      "Requirement already satisfied: kiwisolver>=1.0.1 in c:\\users\\hp\\anaconda3\\envs\\env\\lib\\site-packages (from matplotlib) (1.4.4)\n",
      "Requirement already satisfied: packaging>=20.0 in c:\\users\\hp\\anaconda3\\envs\\env\\lib\\site-packages (from matplotlib) (22.0)\n",
      "Requirement already satisfied: pillow>=6.2.0 in c:\\users\\hp\\anaconda3\\envs\\env\\lib\\site-packages (from matplotlib) (9.4.0)\n",
      "Requirement already satisfied: pyparsing>=2.2.1 in c:\\users\\hp\\anaconda3\\envs\\env\\lib\\site-packages (from matplotlib) (3.0.9)\n",
      "Requirement already satisfied: cycler>=0.10 in c:\\users\\hp\\anaconda3\\envs\\env\\lib\\site-packages (from matplotlib) (0.11.0)\n",
      "Requirement already satisfied: python-dateutil>=2.7 in c:\\users\\hp\\anaconda3\\envs\\env\\lib\\site-packages (from matplotlib) (2.8.2)\n",
      "Requirement already satisfied: fonttools>=4.22.0 in c:\\users\\hp\\anaconda3\\envs\\env\\lib\\site-packages (from matplotlib) (4.25.0)\n",
      "Requirement already satisfied: numpy>=1.17 in c:\\users\\hp\\anaconda3\\envs\\env\\lib\\site-packages (from matplotlib) (1.21.5)\n",
      "Requirement already satisfied: typing-extensions in c:\\users\\hp\\anaconda3\\envs\\env\\lib\\site-packages (from kiwisolver>=1.0.1->matplotlib) (4.7.1)\n",
      "Requirement already satisfied: six>=1.5 in c:\\users\\hp\\anaconda3\\envs\\env\\lib\\site-packages (from python-dateutil>=2.7->matplotlib) (1.16.0)\n"
     ]
    },
    {
     "name": "stderr",
     "output_type": "stream",
     "text": [
      "WARNING: Ignoring invalid distribution -rotobuf (c:\\users\\hp\\anaconda3\\envs\\env\\lib\\site-packages)\n",
      "WARNING: Ignoring invalid distribution -rotobuf (c:\\users\\hp\\anaconda3\\envs\\env\\lib\\site-packages)\n",
      "WARNING: Ignoring invalid distribution -rotobuf (c:\\users\\hp\\anaconda3\\envs\\env\\lib\\site-packages)\n",
      "WARNING: Ignoring invalid distribution -rotobuf (c:\\users\\hp\\anaconda3\\envs\\env\\lib\\site-packages)\n",
      "WARNING: Ignoring invalid distribution -rotobuf (c:\\users\\hp\\anaconda3\\envs\\env\\lib\\site-packages)\n",
      "WARNING: Ignoring invalid distribution -rotobuf (c:\\users\\hp\\anaconda3\\envs\\env\\lib\\site-packages)\n"
     ]
    },
    {
     "name": "stdout",
     "output_type": "stream",
     "text": [
      "Requirement already satisfied: scikit-learn in c:\\users\\hp\\anaconda3\\envs\\env\\lib\\site-packages (1.0.2)\n",
      "Requirement already satisfied: scipy>=1.1.0 in c:\\users\\hp\\anaconda3\\envs\\env\\lib\\site-packages (from scikit-learn) (1.7.3)\n",
      "Requirement already satisfied: joblib>=0.11 in c:\\users\\hp\\anaconda3\\envs\\env\\lib\\site-packages (from scikit-learn) (1.1.1)\n",
      "Requirement already satisfied: threadpoolctl>=2.0.0 in c:\\users\\hp\\anaconda3\\envs\\env\\lib\\site-packages (from scikit-learn) (2.2.0)\n",
      "Requirement already satisfied: numpy>=1.14.6 in c:\\users\\hp\\anaconda3\\envs\\env\\lib\\site-packages (from scikit-learn) (1.21.5)\n"
     ]
    },
    {
     "name": "stderr",
     "output_type": "stream",
     "text": [
      "WARNING: Ignoring invalid distribution -rotobuf (c:\\users\\hp\\anaconda3\\envs\\env\\lib\\site-packages)\n",
      "WARNING: Ignoring invalid distribution -rotobuf (c:\\users\\hp\\anaconda3\\envs\\env\\lib\\site-packages)\n",
      "WARNING: Ignoring invalid distribution -rotobuf (c:\\users\\hp\\anaconda3\\envs\\env\\lib\\site-packages)\n",
      "WARNING: Ignoring invalid distribution -rotobuf (c:\\users\\hp\\anaconda3\\envs\\env\\lib\\site-packages)\n",
      "WARNING: Ignoring invalid distribution -rotobuf (c:\\users\\hp\\anaconda3\\envs\\env\\lib\\site-packages)\n",
      "WARNING: Ignoring invalid distribution -rotobuf (c:\\users\\hp\\anaconda3\\envs\\env\\lib\\site-packages)\n"
     ]
    },
    {
     "name": "stdout",
     "output_type": "stream",
     "text": [
      "Requirement already satisfied: gradio in c:\\users\\hp\\anaconda3\\envs\\env\\lib\\site-packages (3.34.0)\n",
      "Requirement already satisfied: pydantic in c:\\users\\hp\\anaconda3\\envs\\env\\lib\\site-packages (from gradio) (2.3.0)\n",
      "Requirement already satisfied: ffmpy in c:\\users\\hp\\anaconda3\\envs\\env\\lib\\site-packages (from gradio) (0.3.1)\n",
      "Requirement already satisfied: markdown-it-py[linkify]>=2.0.0 in c:\\users\\hp\\anaconda3\\envs\\env\\lib\\site-packages (from gradio) (2.2.0)\n",
      "Requirement already satisfied: pyyaml in c:\\users\\hp\\anaconda3\\envs\\env\\lib\\site-packages (from gradio) (6.0)\n",
      "Requirement already satisfied: pygments>=2.12.0 in c:\\users\\hp\\anaconda3\\envs\\env\\lib\\site-packages (from gradio) (2.16.1)\n",
      "Requirement already satisfied: pandas in c:\\users\\hp\\anaconda3\\envs\\env\\lib\\site-packages (from gradio) (1.3.5)\n",
      "Requirement already satisfied: jinja2 in c:\\users\\hp\\anaconda3\\envs\\env\\lib\\site-packages (from gradio) (3.1.2)\n",
      "Requirement already satisfied: altair>=4.2.0 in c:\\users\\hp\\anaconda3\\envs\\env\\lib\\site-packages (from gradio) (5.0.1)\n",
      "Requirement already satisfied: aiofiles in c:\\users\\hp\\anaconda3\\envs\\env\\lib\\site-packages (from gradio) (23.2.1)\n",
      "Requirement already satisfied: huggingface-hub>=0.14.0 in c:\\users\\hp\\anaconda3\\envs\\env\\lib\\site-packages (from gradio) (0.16.4)\n",
      "Requirement already satisfied: markupsafe in c:\\users\\hp\\anaconda3\\envs\\env\\lib\\site-packages (from gradio) (2.1.1)\n",
      "Requirement already satisfied: gradio-client>=0.2.6 in c:\\users\\hp\\anaconda3\\envs\\env\\lib\\site-packages (from gradio) (0.2.6)\n",
      "Requirement already satisfied: aiohttp in c:\\users\\hp\\anaconda3\\envs\\env\\lib\\site-packages (from gradio) (3.8.3)\n",
      "Requirement already satisfied: websockets>=10.0 in c:\\users\\hp\\anaconda3\\envs\\env\\lib\\site-packages (from gradio) (11.0.3)\n",
      "Requirement already satisfied: fastapi in c:\\users\\hp\\anaconda3\\envs\\env\\lib\\site-packages (from gradio) (0.103.0)\n",
      "Requirement already satisfied: python-multipart in c:\\users\\hp\\anaconda3\\envs\\env\\lib\\site-packages (from gradio) (0.0.6)\n",
      "Requirement already satisfied: numpy in c:\\users\\hp\\anaconda3\\envs\\env\\lib\\site-packages (from gradio) (1.21.5)\n",
      "Requirement already satisfied: pydub in c:\\users\\hp\\anaconda3\\envs\\env\\lib\\site-packages (from gradio) (0.25.1)\n",
      "Requirement already satisfied: matplotlib in c:\\users\\hp\\anaconda3\\envs\\env\\lib\\site-packages (from gradio) (3.5.3)\n",
      "Requirement already satisfied: typing-extensions in c:\\users\\hp\\anaconda3\\envs\\env\\lib\\site-packages (from gradio) (4.7.1)\n",
      "Requirement already satisfied: orjson in c:\\users\\hp\\anaconda3\\envs\\env\\lib\\site-packages (from gradio) (3.9.5)\n",
      "Requirement already satisfied: mdit-py-plugins<=0.3.3 in c:\\users\\hp\\anaconda3\\envs\\env\\lib\\site-packages (from gradio) (0.3.3)\n",
      "Requirement already satisfied: semantic-version in c:\\users\\hp\\anaconda3\\envs\\env\\lib\\site-packages (from gradio) (2.10.0)\n",
      "Requirement already satisfied: httpx in c:\\users\\hp\\anaconda3\\envs\\env\\lib\\site-packages (from gradio) (0.24.1)\n",
      "Requirement already satisfied: requests in c:\\users\\hp\\anaconda3\\envs\\env\\lib\\site-packages (from gradio) (2.28.1)\n",
      "Requirement already satisfied: pillow in c:\\users\\hp\\anaconda3\\envs\\env\\lib\\site-packages (from gradio) (9.4.0)\n",
      "Requirement already satisfied: uvicorn>=0.14.0 in c:\\users\\hp\\anaconda3\\envs\\env\\lib\\site-packages (from gradio) (0.22.0)\n",
      "Requirement already satisfied: toolz in c:\\users\\hp\\anaconda3\\envs\\env\\lib\\site-packages (from altair>=4.2.0->gradio) (0.12.0)\n",
      "Requirement already satisfied: importlib-metadata in c:\\users\\hp\\anaconda3\\envs\\env\\lib\\site-packages (from altair>=4.2.0->gradio) (4.11.3)\n",
      "Requirement already satisfied: jsonschema>=3.0 in c:\\users\\hp\\anaconda3\\envs\\env\\lib\\site-packages (from altair>=4.2.0->gradio) (4.17.3)\n",
      "Requirement already satisfied: packaging in c:\\users\\hp\\anaconda3\\envs\\env\\lib\\site-packages (from gradio-client>=0.2.6->gradio) (22.0)\n",
      "Requirement already satisfied: fsspec in c:\\users\\hp\\anaconda3\\envs\\env\\lib\\site-packages (from gradio-client>=0.2.6->gradio) (2022.11.0)\n",
      "Requirement already satisfied: filelock in c:\\users\\hp\\anaconda3\\envs\\env\\lib\\site-packages (from huggingface-hub>=0.14.0->gradio) (3.12.2)\n",
      "Requirement already satisfied: tqdm>=4.42.1 in c:\\users\\hp\\anaconda3\\envs\\env\\lib\\site-packages (from huggingface-hub>=0.14.0->gradio) (4.64.1)\n",
      "Requirement already satisfied: mdurl~=0.1 in c:\\users\\hp\\anaconda3\\envs\\env\\lib\\site-packages (from markdown-it-py[linkify]>=2.0.0->gradio) (0.1.2)\n",
      "Requirement already satisfied: linkify-it-py<3,>=1 in c:\\users\\hp\\anaconda3\\envs\\env\\lib\\site-packages (from markdown-it-py[linkify]>=2.0.0->gradio) (2.0.2)\n",
      "Requirement already satisfied: pytz>=2017.3 in c:\\users\\hp\\anaconda3\\envs\\env\\lib\\site-packages (from pandas->gradio) (2022.7)\n",
      "Requirement already satisfied: python-dateutil>=2.7.3 in c:\\users\\hp\\anaconda3\\envs\\env\\lib\\site-packages (from pandas->gradio) (2.8.2)\n",
      "Requirement already satisfied: h11>=0.8 in c:\\users\\hp\\anaconda3\\envs\\env\\lib\\site-packages (from uvicorn>=0.14.0->gradio) (0.14.0)\n",
      "Requirement already satisfied: click>=7.0 in c:\\users\\hp\\anaconda3\\envs\\env\\lib\\site-packages (from uvicorn>=0.14.0->gradio) (8.0.4)\n",
      "Requirement already satisfied: asynctest==0.13.0 in c:\\users\\hp\\anaconda3\\envs\\env\\lib\\site-packages (from aiohttp->gradio) (0.13.0)\n",
      "Requirement already satisfied: async-timeout<5.0,>=4.0.0a3 in c:\\users\\hp\\anaconda3\\envs\\env\\lib\\site-packages (from aiohttp->gradio) (4.0.2)\n",
      "Requirement already satisfied: attrs>=17.3.0 in c:\\users\\hp\\anaconda3\\envs\\env\\lib\\site-packages (from aiohttp->gradio) (22.1.0)\n",
      "Requirement already satisfied: multidict<7.0,>=4.5 in c:\\users\\hp\\anaconda3\\envs\\env\\lib\\site-packages (from aiohttp->gradio) (6.0.2)\n",
      "Requirement already satisfied: charset-normalizer<3.0,>=2.0 in c:\\users\\hp\\anaconda3\\envs\\env\\lib\\site-packages (from aiohttp->gradio) (2.0.4)\n",
      "Requirement already satisfied: aiosignal>=1.1.2 in c:\\users\\hp\\anaconda3\\envs\\env\\lib\\site-packages (from aiohttp->gradio) (1.2.0)\n",
      "Requirement already satisfied: frozenlist>=1.1.1 in c:\\users\\hp\\anaconda3\\envs\\env\\lib\\site-packages (from aiohttp->gradio) (1.3.3)\n",
      "Requirement already satisfied: yarl<2.0,>=1.0 in c:\\users\\hp\\anaconda3\\envs\\env\\lib\\site-packages (from aiohttp->gradio) (1.8.1)\n",
      "Requirement already satisfied: starlette<0.28.0,>=0.27.0 in c:\\users\\hp\\anaconda3\\envs\\env\\lib\\site-packages (from fastapi->gradio) (0.27.0)\n",
      "Requirement already satisfied: pydantic-core==2.6.3 in c:\\users\\hp\\anaconda3\\envs\\env\\lib\\site-packages (from pydantic->gradio) (2.6.3)\n",
      "Requirement already satisfied: annotated-types>=0.4.0 in c:\\users\\hp\\anaconda3\\envs\\env\\lib\\site-packages (from pydantic->gradio) (0.5.0)\n",
      "Requirement already satisfied: idna in c:\\users\\hp\\anaconda3\\envs\\env\\lib\\site-packages (from httpx->gradio) (3.4)\n",
      "Requirement already satisfied: httpcore<0.18.0,>=0.15.0 in c:\\users\\hp\\anaconda3\\envs\\env\\lib\\site-packages (from httpx->gradio) (0.17.3)\n",
      "Requirement already satisfied: sniffio in c:\\users\\hp\\anaconda3\\envs\\env\\lib\\site-packages (from httpx->gradio) (1.2.0)\n",
      "Requirement already satisfied: certifi in c:\\users\\hp\\anaconda3\\envs\\env\\lib\\site-packages (from httpx->gradio) (2022.12.7)\n",
      "Requirement already satisfied: pyparsing>=2.2.1 in c:\\users\\hp\\anaconda3\\envs\\env\\lib\\site-packages (from matplotlib->gradio) (3.0.9)\n",
      "Requirement already satisfied: cycler>=0.10 in c:\\users\\hp\\anaconda3\\envs\\env\\lib\\site-packages (from matplotlib->gradio) (0.11.0)\n",
      "Requirement already satisfied: kiwisolver>=1.0.1 in c:\\users\\hp\\anaconda3\\envs\\env\\lib\\site-packages (from matplotlib->gradio) (1.4.4)\n",
      "Requirement already satisfied: fonttools>=4.22.0 in c:\\users\\hp\\anaconda3\\envs\\env\\lib\\site-packages (from matplotlib->gradio) (4.25.0)\n",
      "Requirement already satisfied: urllib3<1.27,>=1.21.1 in c:\\users\\hp\\anaconda3\\envs\\env\\lib\\site-packages (from requests->gradio) (1.26.14)\n",
      "Requirement already satisfied: colorama in c:\\users\\hp\\anaconda3\\envs\\env\\lib\\site-packages (from click>=7.0->uvicorn>=0.14.0->gradio) (0.4.6)\n",
      "Requirement already satisfied: anyio<5.0,>=3.0 in c:\\users\\hp\\anaconda3\\envs\\env\\lib\\site-packages (from httpcore<0.18.0,>=0.15.0->httpx->gradio) (3.5.0)\n",
      "Requirement already satisfied: importlib-resources>=1.4.0 in c:\\users\\hp\\anaconda3\\envs\\env\\lib\\site-packages (from jsonschema>=3.0->altair>=4.2.0->gradio) (5.2.0)\n",
      "Requirement already satisfied: pkgutil-resolve-name>=1.3.10 in c:\\users\\hp\\anaconda3\\envs\\env\\lib\\site-packages (from jsonschema>=3.0->altair>=4.2.0->gradio) (1.3.10)\n",
      "Requirement already satisfied: pyrsistent!=0.17.0,!=0.17.1,!=0.17.2,>=0.14.0 in c:\\users\\hp\\anaconda3\\envs\\env\\lib\\site-packages (from jsonschema>=3.0->altair>=4.2.0->gradio) (0.18.0)\n",
      "Requirement already satisfied: uc-micro-py in c:\\users\\hp\\anaconda3\\envs\\env\\lib\\site-packages (from linkify-it-py<3,>=1->markdown-it-py[linkify]>=2.0.0->gradio) (1.0.2)\n",
      "Requirement already satisfied: six>=1.5 in c:\\users\\hp\\anaconda3\\envs\\env\\lib\\site-packages (from python-dateutil>=2.7.3->pandas->gradio) (1.16.0)\n",
      "Requirement already satisfied: zipp>=0.5 in c:\\users\\hp\\anaconda3\\envs\\env\\lib\\site-packages (from importlib-metadata->altair>=4.2.0->gradio) (3.11.0)\n"
     ]
    },
    {
     "name": "stderr",
     "output_type": "stream",
     "text": [
      "WARNING: Ignoring invalid distribution -rotobuf (c:\\users\\hp\\anaconda3\\envs\\env\\lib\\site-packages)\n",
      "WARNING: Ignoring invalid distribution -rotobuf (c:\\users\\hp\\anaconda3\\envs\\env\\lib\\site-packages)\n",
      "WARNING: Ignoring invalid distribution -rotobuf (c:\\users\\hp\\anaconda3\\envs\\env\\lib\\site-packages)\n",
      "WARNING: Ignoring invalid distribution -rotobuf (c:\\users\\hp\\anaconda3\\envs\\env\\lib\\site-packages)\n",
      "WARNING: Ignoring invalid distribution -rotobuf (c:\\users\\hp\\anaconda3\\envs\\env\\lib\\site-packages)\n",
      "WARNING: Ignoring invalid distribution -rotobuf (c:\\users\\hp\\anaconda3\\envs\\env\\lib\\site-packages)\n"
     ]
    }
   ],
   "source": [
    "#If libraries not installed, run this cell\n",
    "!pip install numpy\n",
    "!pip install scipy\n",
    "!pip install keras\n",
    "!pip install pandas\n",
    "!pip install seaborn\n",
    "!pip install tabulate\n",
    "!pip install matplotlib\n",
    "!pip install scikit-learn\n",
    "!pip install gradio"
   ]
  },
  {
   "cell_type": "code",
   "execution_count": 1,
   "id": "15d0960c",
   "metadata": {},
   "outputs": [
    {
     "ename": "ImportError",
     "evalue": "cannot import name 'descriptor' from 'google.protobuf' (unknown location)",
     "output_type": "error",
     "traceback": [
      "\u001b[1;31m---------------------------------------------------------------------------\u001b[0m",
      "\u001b[1;31mImportError\u001b[0m                               Traceback (most recent call last)",
      "\u001b[1;32m~\\AppData\\Local\\Temp\\ipykernel_6788\\3608022274.py\u001b[0m in \u001b[0;36m<module>\u001b[1;34m\u001b[0m\n\u001b[0;32m      2\u001b[0m \u001b[1;32mimport\u001b[0m \u001b[0mtime\u001b[0m\u001b[1;33m\u001b[0m\u001b[1;33m\u001b[0m\u001b[0m\n\u001b[0;32m      3\u001b[0m \u001b[1;32mimport\u001b[0m \u001b[0mjson\u001b[0m\u001b[1;33m\u001b[0m\u001b[1;33m\u001b[0m\u001b[0m\n\u001b[1;32m----> 4\u001b[1;33m \u001b[1;32mimport\u001b[0m \u001b[0mkeras\u001b[0m\u001b[1;33m\u001b[0m\u001b[1;33m\u001b[0m\u001b[0m\n\u001b[0m\u001b[0;32m      5\u001b[0m \u001b[1;32mimport\u001b[0m \u001b[0murllib3\u001b[0m\u001b[1;33m\u001b[0m\u001b[1;33m\u001b[0m\u001b[0m\n\u001b[0;32m      6\u001b[0m \u001b[1;32mimport\u001b[0m \u001b[0mnumpy\u001b[0m \u001b[1;32mas\u001b[0m \u001b[0mnp\u001b[0m\u001b[1;33m\u001b[0m\u001b[1;33m\u001b[0m\u001b[0m\n",
      "\u001b[1;32m~\\anaconda3\\envs\\env\\lib\\site-packages\\keras\\__init__.py\u001b[0m in \u001b[0;36m<module>\u001b[1;34m\u001b[0m\n\u001b[0;32m     18\u001b[0m \u001b[1;33m[\u001b[0m\u001b[0mkeras\u001b[0m\u001b[1;33m.\u001b[0m\u001b[0mio\u001b[0m\u001b[1;33m]\u001b[0m\u001b[1;33m(\u001b[0m\u001b[0mhttps\u001b[0m\u001b[1;33m:\u001b[0m\u001b[1;33m//\u001b[0m\u001b[0mkeras\u001b[0m\u001b[1;33m.\u001b[0m\u001b[0mio\u001b[0m\u001b[1;33m)\u001b[0m\u001b[1;33m.\u001b[0m\u001b[1;33m\u001b[0m\u001b[1;33m\u001b[0m\u001b[0m\n\u001b[0;32m     19\u001b[0m \"\"\"\n\u001b[1;32m---> 20\u001b[1;33m \u001b[1;32mfrom\u001b[0m \u001b[0mkeras\u001b[0m \u001b[1;32mimport\u001b[0m \u001b[0mdistribute\u001b[0m\u001b[1;33m\u001b[0m\u001b[1;33m\u001b[0m\u001b[0m\n\u001b[0m\u001b[0;32m     21\u001b[0m \u001b[1;32mfrom\u001b[0m \u001b[0mkeras\u001b[0m \u001b[1;32mimport\u001b[0m \u001b[0mmodels\u001b[0m\u001b[1;33m\u001b[0m\u001b[1;33m\u001b[0m\u001b[0m\n\u001b[0;32m     22\u001b[0m \u001b[1;32mfrom\u001b[0m \u001b[0mkeras\u001b[0m\u001b[1;33m.\u001b[0m\u001b[0mengine\u001b[0m\u001b[1;33m.\u001b[0m\u001b[0minput_layer\u001b[0m \u001b[1;32mimport\u001b[0m \u001b[0mInput\u001b[0m\u001b[1;33m\u001b[0m\u001b[1;33m\u001b[0m\u001b[0m\n",
      "\u001b[1;32m~\\anaconda3\\envs\\env\\lib\\site-packages\\keras\\distribute\\__init__.py\u001b[0m in \u001b[0;36m<module>\u001b[1;34m\u001b[0m\n\u001b[0;32m     16\u001b[0m \u001b[1;33m\u001b[0m\u001b[0m\n\u001b[0;32m     17\u001b[0m \u001b[1;33m\u001b[0m\u001b[0m\n\u001b[1;32m---> 18\u001b[1;33m \u001b[1;32mfrom\u001b[0m \u001b[0mkeras\u001b[0m\u001b[1;33m.\u001b[0m\u001b[0mdistribute\u001b[0m \u001b[1;32mimport\u001b[0m \u001b[0msidecar_evaluator\u001b[0m\u001b[1;33m\u001b[0m\u001b[1;33m\u001b[0m\u001b[0m\n\u001b[0m",
      "\u001b[1;32m~\\anaconda3\\envs\\env\\lib\\site-packages\\keras\\distribute\\sidecar_evaluator.py\u001b[0m in \u001b[0;36m<module>\u001b[1;34m\u001b[0m\n\u001b[0;32m     15\u001b[0m \u001b[1;34m\"\"\"Python module for evaluation loop.\"\"\"\u001b[0m\u001b[1;33m\u001b[0m\u001b[1;33m\u001b[0m\u001b[0m\n\u001b[0;32m     16\u001b[0m \u001b[1;33m\u001b[0m\u001b[0m\n\u001b[1;32m---> 17\u001b[1;33m \u001b[1;32mimport\u001b[0m \u001b[0mtensorflow\u001b[0m\u001b[1;33m.\u001b[0m\u001b[0mcompat\u001b[0m\u001b[1;33m.\u001b[0m\u001b[0mv2\u001b[0m \u001b[1;32mas\u001b[0m \u001b[0mtf\u001b[0m\u001b[1;33m\u001b[0m\u001b[1;33m\u001b[0m\u001b[0m\n\u001b[0m\u001b[0;32m     18\u001b[0m \u001b[1;33m\u001b[0m\u001b[0m\n\u001b[0;32m     19\u001b[0m \u001b[1;31m# isort: off\u001b[0m\u001b[1;33m\u001b[0m\u001b[1;33m\u001b[0m\u001b[1;33m\u001b[0m\u001b[0m\n",
      "\u001b[1;32m~\\anaconda3\\envs\\env\\lib\\site-packages\\tensorflow\\__init__.py\u001b[0m in \u001b[0;36m<module>\u001b[1;34m\u001b[0m\n\u001b[0;32m     35\u001b[0m \u001b[1;32mimport\u001b[0m \u001b[0mtyping\u001b[0m \u001b[1;32mas\u001b[0m \u001b[0m_typing\u001b[0m\u001b[1;33m\u001b[0m\u001b[1;33m\u001b[0m\u001b[0m\n\u001b[0;32m     36\u001b[0m \u001b[1;33m\u001b[0m\u001b[0m\n\u001b[1;32m---> 37\u001b[1;33m \u001b[1;32mfrom\u001b[0m \u001b[0mtensorflow\u001b[0m\u001b[1;33m.\u001b[0m\u001b[0mpython\u001b[0m\u001b[1;33m.\u001b[0m\u001b[0mtools\u001b[0m \u001b[1;32mimport\u001b[0m \u001b[0mmodule_util\u001b[0m \u001b[1;32mas\u001b[0m \u001b[0m_module_util\u001b[0m\u001b[1;33m\u001b[0m\u001b[1;33m\u001b[0m\u001b[0m\n\u001b[0m\u001b[0;32m     38\u001b[0m \u001b[1;32mfrom\u001b[0m \u001b[0mtensorflow\u001b[0m\u001b[1;33m.\u001b[0m\u001b[0mpython\u001b[0m\u001b[1;33m.\u001b[0m\u001b[0mutil\u001b[0m\u001b[1;33m.\u001b[0m\u001b[0mlazy_loader\u001b[0m \u001b[1;32mimport\u001b[0m \u001b[0mLazyLoader\u001b[0m \u001b[1;32mas\u001b[0m \u001b[0m_LazyLoader\u001b[0m\u001b[1;33m\u001b[0m\u001b[1;33m\u001b[0m\u001b[0m\n\u001b[0;32m     39\u001b[0m \u001b[1;33m\u001b[0m\u001b[0m\n",
      "\u001b[1;32m~\\anaconda3\\envs\\env\\lib\\site-packages\\tensorflow\\python\\__init__.py\u001b[0m in \u001b[0;36m<module>\u001b[1;34m\u001b[0m\n\u001b[0;32m     35\u001b[0m \u001b[1;33m\u001b[0m\u001b[0m\n\u001b[0;32m     36\u001b[0m \u001b[1;32mfrom\u001b[0m \u001b[0mtensorflow\u001b[0m\u001b[1;33m.\u001b[0m\u001b[0mpython\u001b[0m \u001b[1;32mimport\u001b[0m \u001b[0mpywrap_tensorflow\u001b[0m \u001b[1;32mas\u001b[0m \u001b[0m_pywrap_tensorflow\u001b[0m\u001b[1;33m\u001b[0m\u001b[1;33m\u001b[0m\u001b[0m\n\u001b[1;32m---> 37\u001b[1;33m \u001b[1;32mfrom\u001b[0m \u001b[0mtensorflow\u001b[0m\u001b[1;33m.\u001b[0m\u001b[0mpython\u001b[0m\u001b[1;33m.\u001b[0m\u001b[0meager\u001b[0m \u001b[1;32mimport\u001b[0m \u001b[0mcontext\u001b[0m\u001b[1;33m\u001b[0m\u001b[1;33m\u001b[0m\u001b[0m\n\u001b[0m\u001b[0;32m     38\u001b[0m \u001b[1;33m\u001b[0m\u001b[0m\n\u001b[0;32m     39\u001b[0m \u001b[1;31m# pylint: enable=wildcard-import\u001b[0m\u001b[1;33m\u001b[0m\u001b[1;33m\u001b[0m\u001b[1;33m\u001b[0m\u001b[0m\n",
      "\u001b[1;32m~\\anaconda3\\envs\\env\\lib\\site-packages\\tensorflow\\python\\eager\\context.py\u001b[0m in \u001b[0;36m<module>\u001b[1;34m\u001b[0m\n\u001b[0;32m     27\u001b[0m \u001b[1;32mimport\u001b[0m \u001b[0msix\u001b[0m\u001b[1;33m\u001b[0m\u001b[1;33m\u001b[0m\u001b[0m\n\u001b[0;32m     28\u001b[0m \u001b[1;33m\u001b[0m\u001b[0m\n\u001b[1;32m---> 29\u001b[1;33m \u001b[1;32mfrom\u001b[0m \u001b[0mtensorflow\u001b[0m\u001b[1;33m.\u001b[0m\u001b[0mcore\u001b[0m\u001b[1;33m.\u001b[0m\u001b[0mframework\u001b[0m \u001b[1;32mimport\u001b[0m \u001b[0mfunction_pb2\u001b[0m\u001b[1;33m\u001b[0m\u001b[1;33m\u001b[0m\u001b[0m\n\u001b[0m\u001b[0;32m     30\u001b[0m \u001b[1;32mfrom\u001b[0m \u001b[0mtensorflow\u001b[0m\u001b[1;33m.\u001b[0m\u001b[0mcore\u001b[0m\u001b[1;33m.\u001b[0m\u001b[0mprotobuf\u001b[0m \u001b[1;32mimport\u001b[0m \u001b[0mconfig_pb2\u001b[0m\u001b[1;33m\u001b[0m\u001b[1;33m\u001b[0m\u001b[0m\n\u001b[0;32m     31\u001b[0m \u001b[1;32mfrom\u001b[0m \u001b[0mtensorflow\u001b[0m\u001b[1;33m.\u001b[0m\u001b[0mcore\u001b[0m\u001b[1;33m.\u001b[0m\u001b[0mprotobuf\u001b[0m \u001b[1;32mimport\u001b[0m \u001b[0mcoordination_config_pb2\u001b[0m\u001b[1;33m\u001b[0m\u001b[1;33m\u001b[0m\u001b[0m\n",
      "\u001b[1;32m~\\anaconda3\\envs\\env\\lib\\site-packages\\tensorflow\\core\\framework\\function_pb2.py\u001b[0m in \u001b[0;36m<module>\u001b[1;34m\u001b[0m\n\u001b[0;32m      5\u001b[0m \u001b[1;32mimport\u001b[0m \u001b[0msys\u001b[0m\u001b[1;33m\u001b[0m\u001b[1;33m\u001b[0m\u001b[0m\n\u001b[0;32m      6\u001b[0m \u001b[0m_b\u001b[0m\u001b[1;33m=\u001b[0m\u001b[0msys\u001b[0m\u001b[1;33m.\u001b[0m\u001b[0mversion_info\u001b[0m\u001b[1;33m[\u001b[0m\u001b[1;36m0\u001b[0m\u001b[1;33m]\u001b[0m\u001b[1;33m<\u001b[0m\u001b[1;36m3\u001b[0m \u001b[1;32mand\u001b[0m \u001b[1;33m(\u001b[0m\u001b[1;32mlambda\u001b[0m \u001b[0mx\u001b[0m\u001b[1;33m:\u001b[0m\u001b[0mx\u001b[0m\u001b[1;33m)\u001b[0m \u001b[1;32mor\u001b[0m \u001b[1;33m(\u001b[0m\u001b[1;32mlambda\u001b[0m \u001b[0mx\u001b[0m\u001b[1;33m:\u001b[0m\u001b[0mx\u001b[0m\u001b[1;33m.\u001b[0m\u001b[0mencode\u001b[0m\u001b[1;33m(\u001b[0m\u001b[1;34m'latin1'\u001b[0m\u001b[1;33m)\u001b[0m\u001b[1;33m)\u001b[0m\u001b[1;33m\u001b[0m\u001b[1;33m\u001b[0m\u001b[0m\n\u001b[1;32m----> 7\u001b[1;33m \u001b[1;32mfrom\u001b[0m \u001b[0mgoogle\u001b[0m\u001b[1;33m.\u001b[0m\u001b[0mprotobuf\u001b[0m \u001b[1;32mimport\u001b[0m \u001b[0mdescriptor\u001b[0m \u001b[1;32mas\u001b[0m \u001b[0m_descriptor\u001b[0m\u001b[1;33m\u001b[0m\u001b[1;33m\u001b[0m\u001b[0m\n\u001b[0m\u001b[0;32m      8\u001b[0m \u001b[1;32mfrom\u001b[0m \u001b[0mgoogle\u001b[0m\u001b[1;33m.\u001b[0m\u001b[0mprotobuf\u001b[0m \u001b[1;32mimport\u001b[0m \u001b[0mmessage\u001b[0m \u001b[1;32mas\u001b[0m \u001b[0m_message\u001b[0m\u001b[1;33m\u001b[0m\u001b[1;33m\u001b[0m\u001b[0m\n\u001b[0;32m      9\u001b[0m \u001b[1;32mfrom\u001b[0m \u001b[0mgoogle\u001b[0m\u001b[1;33m.\u001b[0m\u001b[0mprotobuf\u001b[0m \u001b[1;32mimport\u001b[0m \u001b[0mreflection\u001b[0m \u001b[1;32mas\u001b[0m \u001b[0m_reflection\u001b[0m\u001b[1;33m\u001b[0m\u001b[1;33m\u001b[0m\u001b[0m\n",
      "\u001b[1;31mImportError\u001b[0m: cannot import name 'descriptor' from 'google.protobuf' (unknown location)"
     ]
    }
   ],
   "source": [
    "#Importing required libraries\n",
    "import time\n",
    "import json\n",
    "import keras\n",
    "import urllib3\n",
    "import numpy as np\n",
    "import gradio as gr\n",
    "import pandas as pd\n",
    "import seaborn as sns\n",
    "from sklearn import tree\n",
    "from sklearn.svm import SVC\n",
    "from scipy.stats import mode\n",
    "from tabulate import tabulate\n",
    "from keras.layers import Dense\n",
    "import matplotlib.pyplot as plt\n",
    "from keras.models import Sequential\n",
    "from ttkbootstrap.constants import  *\n",
    "from keras.utils import to_categorical\n",
    "from sklearn.preprocessing import LabelEncoder\n",
    "from sklearn.preprocessing import StandardScaler\n",
    "from sklearn.ensemble import RandomForestRegressor\n",
    "from sklearn.neighbors import KNeighborsClassifier\n",
    "from sklearn.model_selection import train_test_split\n",
    "from sklearn.model_selection import train_test_split, cross_val_score\n",
    "from sklearn.linear_model import LinearRegression, LogisticRegression\n",
    "from sklearn.metrics import accuracy_score, confusion_matrix, r2_score, mean_squared_error, precision_score, recall_score, f1_score, mean_absolute_error"
   ]
  },
  {
   "cell_type": "code",
   "execution_count": null,
   "id": "507e63bd",
   "metadata": {},
   "outputs": [],
   "source": [
    "#Reading the dataset\n",
    "DF = pd.read_csv(\"Diseases.csv\")"
   ]
  },
  {
   "cell_type": "code",
   "execution_count": null,
   "id": "2e0d68b5",
   "metadata": {},
   "outputs": [],
   "source": [
    "%%time\n",
    "DF.to_csv(\"Diseases.csv.zip\", compression = 'gzip', index = False)"
   ]
  },
  {
   "cell_type": "code",
   "execution_count": null,
   "id": "c5bf6fae",
   "metadata": {},
   "outputs": [],
   "source": [
    "#Compressing and using dataset to prevent corruption of program\n",
    "df = pd.read_csv(\"Diseases.csv.zip\", compression = 'gzip')"
   ]
  },
  {
   "cell_type": "code",
   "execution_count": null,
   "id": "8b75588d",
   "metadata": {},
   "outputs": [],
   "source": [
    "#Displays information about the DataFrame\n",
    "df.info()"
   ]
  },
  {
   "cell_type": "code",
   "execution_count": null,
   "id": "69773ac8",
   "metadata": {},
   "outputs": [],
   "source": [
    "#Displays basic statistical details about the DataFrame\n",
    "df.describe()"
   ]
  },
  {
   "cell_type": "code",
   "execution_count": null,
   "id": "319e2a07",
   "metadata": {},
   "outputs": [],
   "source": [
    "#Displays first 5 rows from the dataset\n",
    "df.head()"
   ]
  },
  {
   "cell_type": "code",
   "execution_count": null,
   "id": "492ccc84",
   "metadata": {},
   "outputs": [],
   "source": [
    "#Displays all the columns available in the dataset\n",
    "df.columns"
   ]
  },
  {
   "cell_type": "code",
   "execution_count": null,
   "id": "607796a7",
   "metadata": {},
   "outputs": [],
   "source": [
    "#Displays the amount of null values in the columns \n",
    "df.isnull().sum()"
   ]
  },
  {
   "cell_type": "code",
   "execution_count": null,
   "id": "b19ff621",
   "metadata": {},
   "outputs": [],
   "source": [
    "#To display the diseases and their frequency in the dataset\n",
    "df.prognosis.value_counts()"
   ]
  },
  {
   "cell_type": "markdown",
   "id": "6ffe1514",
   "metadata": {},
   "source": [
    "# Label Encoding"
   ]
  },
  {
   "cell_type": "markdown",
   "id": "b1ebdc34",
   "metadata": {},
   "source": [
    "- Assignment of a number for each category (categorical values to numeric values)\n",
    "- Reason: Machine learning models can only work with numerical values"
   ]
  },
  {
   "cell_type": "code",
   "execution_count": null,
   "id": "be7688ae",
   "metadata": {},
   "outputs": [],
   "source": [
    "encoder = LabelEncoder()\n",
    "df[\"prognosis\"] = encoder.fit_transform(df[\"prognosis\"])\n",
    "x = df[['itching','skin_rash','nodal_skin_eruptions','continuous_sneezing','shivering','chills','joint_pain','stomach_pain','acidity','ulcers_on_tongue','muscle_wasting','vomiting','burning_micturition','spotting_ urination','fatigue','weight_gain','anxiety','cold_hands_and_feets','mood_swings','weight_loss','restlessness','lethargy','patches_in_throat','irregular_sugar_level','cough','high_fever','sunken_eyes','breathlessness','sweating','dehydration','indigestion','headache','yellowish_skin','dark_urine','nausea','loss_of_appetite','pain_behind_the_eyes','back_pain','constipation','abdominal_pain','diarrhoea','mild_fever','yellow_urine','yellowing_of_eyes','acute_liver_failure','swelling_of_stomach','swelled_lymph_nodes','malaise','blurred_and_distorted_vision','phlegm','throat_irritation','redness_of_eyes','sinus_pressure','runny_nose','congestion','chest_pain','weakness_in_limbs','fast_heart_rate','pain_during_bowel_movements','pain_in_anal_region','bloody_stool','irritation_in_anus','neck_pain','dizziness','cramps','bruising','obesity','swollen_legs','swollen_blood_vessels','puffy_face_and_eyes','enlarged_thyroid','brittle_nails','swollen_extremeties','excessive_hunger','extra_marital_contacts','drying_and_tingling_lips','slurred_speech','knee_pain','hip_joint_pain','muscle_weakness','stiff_neck','swelling_joints','movement_stiffness','spinning_movements','loss_of_balance','unsteadiness','weakness_of_one_body_side','loss_of_smell','bladder_discomfort','foul_smell_of urine','continuous_feel_of_urine','passage_of_gases','internal_itching','toxic_look_(typhos)','depression','irritability','muscle_pain','altered_sensorium','red_spots_over_body','belly_pain','abnormal_menstruation','dischromic _patches','watering_from_eyes','increased_appetite','polyuria','family_history','mucoid_sputum','rusty_sputum','lack_of_concentration','visual_disturbances','receiving_blood_transfusion','receiving_unsterile_injections','coma','stomach_bleeding','distention_of_abdomen','history_of_alcohol_consumption','fluid_overload_1','blood_in_sputum','prominent_veins_on_calf','palpitations','painful_walking','pus_filled_pimples','blackheads','scurring','skin_peeling','silver_like_dusting','small_dents_in_nails','inflammatory_nails','blister','red_sore_around_nose','yellow_crust_ooze']]\n",
    "y = df['prognosis']"
   ]
  },
  {
   "cell_type": "code",
   "execution_count": null,
   "id": "863c0afa",
   "metadata": {},
   "outputs": [],
   "source": [
    "#Printing the data points of each category to check if it has been changed to numbers\n",
    "print(df['prognosis'].value_counts())"
   ]
  },
  {
   "cell_type": "code",
   "execution_count": null,
   "id": "27fdd087",
   "metadata": {},
   "outputs": [],
   "source": [
    "# Printing the first 5 rows of x and y to make sure the data is correct\n",
    "print(x.head())\n",
    "print(y.head())"
   ]
  },
  {
   "cell_type": "code",
   "execution_count": null,
   "id": "4f68cb2a",
   "metadata": {},
   "outputs": [],
   "source": [
    "x_values = df[['itching','skin_rash','nodal_skin_eruptions','continuous_sneezing','shivering','chills','joint_pain','stomach_pain','acidity','ulcers_on_tongue','muscle_wasting','vomiting','burning_micturition','spotting_ urination','fatigue','weight_gain','anxiety','cold_hands_and_feets','mood_swings','weight_loss','restlessness','lethargy','patches_in_throat','irregular_sugar_level','cough','high_fever','sunken_eyes','breathlessness','sweating','dehydration','indigestion','headache','yellowish_skin','dark_urine','nausea','loss_of_appetite','pain_behind_the_eyes','back_pain','constipation','abdominal_pain','diarrhoea','mild_fever','yellow_urine','yellowing_of_eyes','acute_liver_failure','swelling_of_stomach','swelled_lymph_nodes','malaise','blurred_and_distorted_vision','phlegm','throat_irritation','redness_of_eyes','sinus_pressure','runny_nose','congestion','chest_pain','weakness_in_limbs','fast_heart_rate','pain_during_bowel_movements','pain_in_anal_region','bloody_stool','irritation_in_anus','neck_pain','dizziness','cramps','bruising','obesity','swollen_legs','swollen_blood_vessels','puffy_face_and_eyes','enlarged_thyroid','brittle_nails','swollen_extremeties','excessive_hunger','extra_marital_contacts','drying_and_tingling_lips','slurred_speech','knee_pain','hip_joint_pain','muscle_weakness','stiff_neck','swelling_joints','movement_stiffness','spinning_movements','loss_of_balance','unsteadiness','weakness_of_one_body_side','loss_of_smell','bladder_discomfort','foul_smell_of urine','continuous_feel_of_urine','passage_of_gases','internal_itching','toxic_look_(typhos)','depression','irritability','muscle_pain','altered_sensorium','red_spots_over_body','belly_pain','abnormal_menstruation','dischromic _patches','watering_from_eyes','increased_appetite','polyuria','family_history','mucoid_sputum','rusty_sputum','lack_of_concentration','visual_disturbances','receiving_blood_transfusion','receiving_unsterile_injections','coma','stomach_bleeding','distention_of_abdomen','history_of_alcohol_consumption','fluid_overload_1','blood_in_sputum','prominent_veins_on_calf','palpitations','painful_walking','pus_filled_pimples','blackheads','scurring','skin_peeling','silver_like_dusting','small_dents_in_nails','inflammatory_nails','blister','red_sore_around_nose','yellow_crust_ooze','prognosis']]\n",
    "y_values = df['prognosis']"
   ]
  },
  {
   "cell_type": "code",
   "execution_count": null,
   "id": "113f7f41",
   "metadata": {},
   "outputs": [],
   "source": [
    "pro = df['prognosis']\n",
    "dis = ['Fungal infection', 'Hepatitis C', 'Hepatitis E', 'Alcoholic hepatitis', 'Tuberculosis', 'Common Cold', 'Pneumonia','Dimorphic haemorrhoids(piles)', 'Heart attack', 'Varicose veins', 'Hypothyroidism', 'Hyperthyroidism', 'Hypoglycaemia', 'Osteoarthritis', 'Arthritis', '(Vertigo) Paroxysmal Positional Vertigo', 'Acne', 'Urinary tract infection', 'Psoriasis', 'Hepatitis D', 'Hepatitis B', 'Allergy', 'Hepatitis A', 'GERD', 'Chronic cholestasis', 'Drug Reaction', 'Peptic ulcer disease', 'AIDS', 'Diabetes', 'Gastroenteritis', 'Bronchial Asthma', 'Hypertension', 'Migraine', 'Cervical spondylosis', 'Paralysis (brain hemorrhage)', 'Jaundice', 'Malaria', 'Chicken pox', 'Dengue','Typhoid', 'Impetigo']\n",
    "i = []\n",
    "for j in pro:\n",
    "    if j not in i:\n",
    "        i.append(j)\n",
    "\n",
    "d = pd.Series(dis,index = i).to_dict()\n",
    "print(json.dumps(d,indent=2))"
   ]
  },
  {
   "cell_type": "markdown",
   "id": "355132e5",
   "metadata": {},
   "source": [
    "# Splitting"
   ]
  },
  {
   "cell_type": "code",
   "execution_count": null,
   "id": "ac1b5390",
   "metadata": {},
   "outputs": [],
   "source": [
    "#Splitting data for testing and training (30% data for test set)\n",
    "x_train, x_test, y_train, y_test = train_test_split(x_values, y_values, test_size = 0.3, random_state = 10)"
   ]
  },
  {
   "cell_type": "markdown",
   "id": "7e3d5df0",
   "metadata": {},
   "source": [
    "# Standardisation"
   ]
  },
  {
   "cell_type": "markdown",
   "id": "c6128539",
   "metadata": {},
   "source": [
    "- standardising/normalising the data to scale values for all variables into similar ranges\n",
    "- makes data consistent, standard form therefore easier to understand and used\n",
    "- makes data more navigable"
   ]
  },
  {
   "cell_type": "code",
   "execution_count": null,
   "id": "15933ce2",
   "metadata": {},
   "outputs": [],
   "source": [
    "scaler = StandardScaler()\n",
    "x_train_scale = scaler.fit_transform(x_train)\n",
    "x_test_scale = scaler.transform(x_test)"
   ]
  },
  {
   "cell_type": "markdown",
   "id": "ac412353",
   "metadata": {},
   "source": [
    "# Evaluation Metrics"
   ]
  },
  {
   "cell_type": "markdown",
   "id": "2d5b7e34",
   "metadata": {},
   "source": [
    "True Positives (TP):\n",
    "- model correctly predicted the positive class when the actual class was positive\n",
    "    e.g. model correctly predicted a person has a disease when they actually do have the disease\n",
    "\n",
    "True Negatives (TN):\n",
    "- model correctly predicted the negative class when the actual class was negative\n",
    "    e.g. model correctly predicted a person does not have a disease when they actually do not have the disease\n",
    "\n",
    "False Positives (FP):\n",
    "- model incorrectly predicted the positive clas when the actual class was negative\n",
    "    e.g. model predicted a person has a disease when they do not have the disease\n",
    "\n",
    "False Negatives (FN):\n",
    "- model incorrectly predicted the negative class when the actual class was positive\n",
    "    e.g. model predicted a person does not have a disease when they actually have the disease"
   ]
  },
  {
   "cell_type": "markdown",
   "id": "f080dac0",
   "metadata": {},
   "source": [
    "## For Classification Models\n",
    "Accuracy:\n",
    "- measures overall correctness\n",
    "- Formula: (True Positives + True Negatives) / Total Instances\n",
    "    i.e. ratio of the correctly predicted instances to total instances\n",
    "- good metric when classes are balanced\n",
    "\n",
    "Precision:\n",
    "- accuracy of the positive predictions\n",
    "- Formula: True Positives / (True Positives + False Positives)\n",
    "    i.e. ratio of true positive predictions to total positive predictions\n",
    "-  important when cost of false positives is high\n",
    "\n",
    "Recall (Sensitivity/True Positive Rate):\n",
    "- ability to identify all relevant instances\n",
    "- Formula: True Positives / (True Positives + False Negatives)\n",
    "    i.e. true positive predictions to total actual positive instances\n",
    "- important when the cost of false negatives is high\n",
    "\n",
    "F1 Score:\n",
    "- single metric that combines precision and recall into one value\n",
    "- Formula: 2 * (Precision * Recall) / (Precision + Recall)\n",
    "\n",
    "## For Regression Models\n",
    "MAE (Mean Absolute Error):\n",
    "- absolute differences between predicted and actual values\n",
    "- Formula: MAE = (1/n) * Σ|yᵢ - ŷᵢ| \n",
    "    i.e. Average of |Actual Value - Predicted Value|\n",
    "    Where:\n",
    "    n - number of data points.\n",
    "    yᵢ - actual target value for the i-th data point\n",
    "    ŷᵢ - predicted value for the i-th data point\n",
    "    \n",
    "MSE (Mean Squared Error):\n",
    "- average of squared differences between predicted and actual values\n",
    "- gives more weight to large errors\n",
    "- lower the value, better the model\n",
    "- Formula: MSE = (1/n) * Σ(yᵢ - ŷᵢ)² \n",
    "    i.e. Average of (Actual Value - Predicted Value)² \n",
    "    Where:\n",
    "    n - number of data points.\n",
    "    yᵢ - actual target value for the i-th data point\n",
    "    ŷᵢ - predicted value for the i-th data point\n",
    "\n",
    "RMSE (Root Mean Square Error):\n",
    "- determines the absolute fit of the model to the data\n",
    "- indicates how close the actual data points are to the model’s predicted values\n",
    "- low value of RMSE indicates a better fit\n",
    "- Formula: √(MSE)\n",
    "\n",
    "R-Squared:\n",
    "- determines proportion of variance in dependenet variable that can be predicted or explained by an independent variable\n",
    "- shows how well regression model (independent variable) predicts outcome of observed data (dependent variable)\n",
    "- Formula: R² = 1 - (MSE / Variance of Actual Values)\n",
    "    Where:\n",
    "    Variance = Σ (Actual Value - Mean)² / (N - 1)\n",
    "    Actual Value - each individual value in the dataset\n",
    "    Mean - average of actual values\n",
    "    N - number of data points"
   ]
  },
  {
   "cell_type": "code",
   "execution_count": null,
   "id": "c0d57208",
   "metadata": {},
   "outputs": [],
   "source": [
    "#Function for evaluation of classification models \n",
    "def class_calculate_metrics(predictions, labels):\n",
    "    accuracy = accuracy_score(labels, predictions)*100\n",
    "    precision = precision_score(labels, predictions, average='weighted', zero_division=1)*100\n",
    "    recall = recall_score(labels, predictions, average='weighted', zero_division=1)*100\n",
    "    f1 = f1_score(labels, predictions, average='weighted', zero_division=1)*100\n",
    "\n",
    "    return {\n",
    "        'Accuracy': accuracy,\n",
    "        'Precision': precision,\n",
    "        'Recall': recall,\n",
    "        'F1 Score': f1\n",
    "    }\n",
    "#Function for evaluation of regression models \n",
    "def reg_calculate_metrics(predictions, labels):\n",
    "    mae = mean_absolute_error(labels, predictions)\n",
    "    mse = mean_squared_error(labels, predictions)\n",
    "    rmse = np.sqrt(mse)\n",
    "    r2 = r2_score(labels, predictions)\n",
    "    \n",
    "    return {\n",
    "        'Mean Absolute Error': mae,\n",
    "        'Mean Squared Error': mse,\n",
    "        'Root Mean Squared Error': rmse,\n",
    "        'R-squared': r2\n",
    "    }"
   ]
  },
  {
   "cell_type": "markdown",
   "id": "96038ba4",
   "metadata": {},
   "source": [
    "# Modelling"
   ]
  },
  {
   "cell_type": "markdown",
   "id": "cef6d9a8",
   "metadata": {},
   "source": [
    "### Learning Based Approach\n",
    "- AI modelling where machine learns by itself\n",
    "- AI model gets trained on the data fed to it and is able to design a model adaptive to the change in data\n",
    "- supervised learning models used in this project:\n",
    "    - works on labelled data\n",
    "        - label: information used as tag for data\n",
    "    - features: data that can be used to predict the target or label\n",
    "    - classification: \n",
    "        - data classified according to labels\n",
    "        - works on discrete datasets (data need not be continuous)\n",
    "    - Regression:\n",
    "        - works on continuous data"
   ]
  },
  {
   "cell_type": "markdown",
   "id": "99f00299",
   "metadata": {},
   "source": [
    "## KNN (K-Nearest Neighbours)"
   ]
  },
  {
   "cell_type": "markdown",
   "id": "9ef3631e",
   "metadata": {},
   "source": [
    "- can be used in classification or regression problems\n",
    "- relies on surrounding points (neighbours) to determine it group\n",
    "    - k is the number of neighbours "
   ]
  },
  {
   "cell_type": "code",
   "execution_count": null,
   "id": "c92cd020",
   "metadata": {},
   "outputs": [],
   "source": [
    "#Creating lists to store accuracy and number of neighbours for each KNN Model\n",
    "kaccuracy = []\n",
    "num_neigh = []"
   ]
  },
  {
   "cell_type": "code",
   "execution_count": null,
   "id": "04ec4c5c",
   "metadata": {},
   "outputs": [],
   "source": [
    "#Cycling through values 1 to 15 (These are the number of neighbours for the KNN Classifier)\n",
    "for i in range(1,16):\n",
    "    #Setting the number of neighbours to i\n",
    "    KNN = KNeighborsClassifier(n_neighbors=i)\n",
    "    #Training the model with the data\n",
    "    KNN.fit(x_train_scale,y_train)\n",
    "    #.score provides the accuracy of the model based on the testing data\n",
    "    kaccuracy.append(KNN.score(x_test_scale,y_test))\n",
    "    #Adding the number of neighbours to the list\n",
    "    num_neigh.append(i)    \n",
    "print(kaccuracy)"
   ]
  },
  {
   "cell_type": "code",
   "execution_count": null,
   "id": "a041e014",
   "metadata": {},
   "outputs": [],
   "source": [
    "#Printing visual representation of the accuracy values to decide optimal number of neighbours\n",
    "plt.scatter(num_neigh,kaccuracy)\n",
    "plt.xlabel('Number of Neighbours')\n",
    "plt.ylabel('Accuracy')\n",
    "plt.show()\n",
    "#The optimal number of neighbours decided by the lowest number of neighbours having highest accuracy value"
   ]
  },
  {
   "cell_type": "code",
   "execution_count": null,
   "id": "bb67e394",
   "metadata": {},
   "outputs": [],
   "source": [
    "#Training KNN algorithm with dataset\n",
    "KNN = KNeighborsClassifier(n_neighbors = 1)\n",
    "KNN = KNN.fit(x_train_scale, y_train)"
   ]
  },
  {
   "cell_type": "code",
   "execution_count": null,
   "id": "7dac92f5",
   "metadata": {},
   "outputs": [],
   "source": [
    "#Evaluating performance of the model\n",
    "y_predict1 = KNN.predict(x_test_scale)"
   ]
  },
  {
   "cell_type": "code",
   "execution_count": null,
   "id": "30da40fb",
   "metadata": {
    "scrolled": true
   },
   "outputs": [],
   "source": [
    "#Confusion Matrix to evaluate model outputs\n",
    "print(confusion_matrix(y_test, y_predict1))"
   ]
  },
  {
   "cell_type": "code",
   "execution_count": null,
   "id": "44bea20c",
   "metadata": {},
   "outputs": [],
   "source": [
    "#Confusion Matrix using Heatmap for better understanding\n",
    "df2 = pd.DataFrame()\n",
    "df2['Actual'] = y_test\n",
    "df2['Predicted'] = y_predict1\n",
    "\n",
    "#Couting frequency in actual and predicted\n",
    "freq = pd.crosstab(df2.Actual, df2.Predicted)\n",
    "\n",
    "#Plotting Heatmap\n",
    "sns.heatmap(freq, annot = True, fmt = 'd')"
   ]
  },
  {
   "cell_type": "code",
   "execution_count": null,
   "id": "c40b932c",
   "metadata": {},
   "outputs": [],
   "source": [
    "#KNN Model Evaluation\n",
    "Kmetrics = class_calculate_metrics(y_test, y_predict1)\n",
    "print(\"KNN Model Metrics:\")\n",
    "for km in Kmetrics:\n",
    "    print(km, \": \", Kmetrics[km], sep = \"\")"
   ]
  },
  {
   "cell_type": "code",
   "execution_count": null,
   "id": "f889f807",
   "metadata": {},
   "outputs": [],
   "source": [
    "a1 = []\n",
    "p1 = []\n",
    "for i in df2['Actual']:\n",
    "    a1.append(d[i])\n",
    "for j in df2['Predicted']:\n",
    "    p1.append(d[j])"
   ]
  },
  {
   "cell_type": "code",
   "execution_count": null,
   "id": "964eab75",
   "metadata": {},
   "outputs": [],
   "source": [
    "k = pd.DataFrame(list(zip(a1, p1)))\n",
    "kcolumns = ['Actual', 'Predicted']"
   ]
  },
  {
   "cell_type": "code",
   "execution_count": null,
   "id": "48c493cf",
   "metadata": {
    "scrolled": true
   },
   "outputs": [],
   "source": [
    "print(tabulate(k, kcolumns, tablefmt = 'fancy_grid'))"
   ]
  },
  {
   "cell_type": "code",
   "execution_count": null,
   "id": "536536cb",
   "metadata": {},
   "outputs": [],
   "source": [
    "#to get details about the function\n",
    "help(tabulate)"
   ]
  },
  {
   "cell_type": "markdown",
   "id": "ba1733ca",
   "metadata": {},
   "source": [
    "## Decision Tree"
   ]
  },
  {
   "cell_type": "markdown",
   "id": "3b7c028a",
   "metadata": {},
   "source": [
    "- can be used in classification or regression problems\n",
    "- starts from the root (point where decision tree starts), diverges into multiple directions (branches) and in the end, the final decision is where the tree ends (leaves)"
   ]
  },
  {
   "cell_type": "code",
   "execution_count": null,
   "id": "291adaee",
   "metadata": {},
   "outputs": [],
   "source": [
    "#To decide the maximum depth of the tree\n",
    "taccuracy = []\n",
    "depth = []\n",
    "\n",
    "#Cycling through values 1 to 60 (These will be the max_depth for the decision tree)\n",
    "for i in range(1,61):\n",
    "    #Setting max_depth to i\n",
    "    dt = tree.DecisionTreeClassifier(max_depth = i)\n",
    "    #Training the model with the data\n",
    "    dt.fit(x_train_scale,y_train)\n",
    "    #.score provides the accuracy of the model based on the testing data\n",
    "    taccuracy.append(dt.score(x_test_scale, y_test))\n",
    "    #Adding the max_depth to the list\n",
    "    depth.append(i)\n",
    "print(taccuracy)"
   ]
  },
  {
   "cell_type": "code",
   "execution_count": null,
   "id": "53eadacd",
   "metadata": {},
   "outputs": [],
   "source": [
    "#Printing visual representation of the accuracy values to decide optimal depth\n",
    "plt.scatter(depth,taccuracy)\n",
    "plt.xlabel('Max_Depth')\n",
    "plt.ylabel('Accuracy')\n",
    "plt.show()\n",
    "#The optimal depth decided by the value having lowest and having highest accuracy value"
   ]
  },
  {
   "cell_type": "code",
   "execution_count": null,
   "id": "9c5b0865",
   "metadata": {},
   "outputs": [],
   "source": [
    "#To decide minimum number of samples to prevent overfitting or underfitting\n",
    "taccuracy2 = []\n",
    "min_samples = []\n",
    "\n",
    "#Cycling through values 2 to 15 since value for minimum samples should be more than 1 (These will be the min_samples_split for the decision tree)\n",
    "for i in range(2,16): \n",
    "    #Setting min_samples_split to i\n",
    "    dt = tree.DecisionTreeClassifier(min_samples_split = i)\n",
    "    #Training the model with the data\n",
    "    dt.fit(x_train_scale,y_train)\n",
    "    #.score provides the accuracy of the model based on the testing data\n",
    "    taccuracy2.append(dt.score(x_test_scale, y_test))\n",
    "    #Adding the min_samples_split to the list\n",
    "    min_samples.append(i)\n",
    "print(taccuracy2)"
   ]
  },
  {
   "cell_type": "code",
   "execution_count": null,
   "id": "4be3e212",
   "metadata": {},
   "outputs": [],
   "source": [
    "#Printing visual representation of the accuracy values to decide optimal minimum samples\n",
    "plt.scatter(min_samples,taccuracy2)\n",
    "plt.xlabel('Min_Sample')\n",
    "plt.ylabel('Accuracy')\n",
    "plt.show()\n",
    "#Values that are too low would be underfitting and too high would be overfitting. Hence, a value in the middle is usually preferable"
   ]
  },
  {
   "cell_type": "code",
   "execution_count": null,
   "id": "bf73c0a7",
   "metadata": {},
   "outputs": [],
   "source": [
    "#Training Decision Tree algorithm with dataset\n",
    "dt = tree.DecisionTreeClassifier(max_depth = 33, min_samples_split = 5)\n",
    "dt.fit(x_train_scale, y_train)"
   ]
  },
  {
   "cell_type": "code",
   "execution_count": null,
   "id": "f2859702",
   "metadata": {},
   "outputs": [],
   "source": [
    "#Evaluating performance of the model\n",
    "y_predict2 = dt.predict(x_test_scale)"
   ]
  },
  {
   "cell_type": "code",
   "execution_count": null,
   "id": "a96a1e87",
   "metadata": {},
   "outputs": [],
   "source": [
    "#Confusion Matrix to evaluate model outputs\n",
    "print(confusion_matrix(y_test, y_predict2))"
   ]
  },
  {
   "cell_type": "code",
   "execution_count": null,
   "id": "0cfe82c3",
   "metadata": {},
   "outputs": [],
   "source": [
    "#Confusion Matrix using Heatmap for better understanding\n",
    "df3 = pd.DataFrame()\n",
    "df3['Actual'] = y_test\n",
    "df3['Predicted'] = y_predict2\n",
    "\n",
    "#Couting frequency in actual and predicted\n",
    "freq = pd.crosstab(df3.Actual, df3.Predicted)\n",
    "\n",
    "#Plotting Heatmap\n",
    "sns.heatmap(freq, annot = True, fmt = 'd')"
   ]
  },
  {
   "cell_type": "code",
   "execution_count": null,
   "id": "7c5a2b9a",
   "metadata": {},
   "outputs": [],
   "source": [
    "#Decision Tree Model Evaluation\n",
    "DTmetrics = class_calculate_metrics(y_test, y_predict2)\n",
    "print(\"Decision Tree Model Metrics:\")\n",
    "\n",
    "for dt in DTmetrics:\n",
    "    print(dt, \": \", DTmetrics[dt], sep = \"\")"
   ]
  },
  {
   "cell_type": "code",
   "execution_count": null,
   "id": "86287b95",
   "metadata": {},
   "outputs": [],
   "source": [
    "a2 = []\n",
    "p2 = []\n",
    "for i in df3['Actual']:\n",
    "    a2.append(d[i])\n",
    "for j in df3['Predicted']:\n",
    "    p2.append(d[j])"
   ]
  },
  {
   "cell_type": "code",
   "execution_count": null,
   "id": "bc3c180b",
   "metadata": {},
   "outputs": [],
   "source": [
    "t = pd.DataFrame(list(zip(a2, p2)))\n",
    "tcolumns = ['Actual', 'Predicted']"
   ]
  },
  {
   "cell_type": "code",
   "execution_count": null,
   "id": "ecc8dcdb",
   "metadata": {},
   "outputs": [],
   "source": [
    "print(tabulate(t, tcolumns, tablefmt = 'fancy_grid'))"
   ]
  },
  {
   "cell_type": "markdown",
   "id": "92629372",
   "metadata": {},
   "source": [
    "## Neural Networks"
   ]
  },
  {
   "cell_type": "markdown",
   "id": "0b1d2504",
   "metadata": {},
   "source": [
    "- loosely modelled after how neurons in human brain behaves\n",
    "- they can extact data features automatically without needing the input of the programmer \n",
    "- fast and efficient way to solve problems when dataset is very large\n",
    "- neural netword divided into many layers and each layer further divided into nodes; each node has its own task to accomplish which is then passed to the next layer\n",
    "    - First layer: Input\n",
    "        - acquire data and feed it to the neural network\n",
    "        - no processing occurs in first layer\n",
    "    - Hidden layer: Processing\n",
    "        - whole processing occurs in hidden layers\n",
    "        - hidden; not visible to users\n",
    "        - each node of hidden layer has its own machine learning algorithms which it executes on the data received from the input layer\n",
    "        - processed output passed on to the subsequent hidden layer\n",
    "     - Output Layer:\n",
    "         - last hidden layer passes the final processed data to the output layer\n",
    "         - gives user final output\n",
    "         - no processing occurs in the output layer\n",
    "         - meant for user-interface"
   ]
  },
  {
   "cell_type": "code",
   "execution_count": null,
   "id": "4b647240",
   "metadata": {},
   "outputs": [],
   "source": [
    "model = Sequential()\n",
    "\n",
    "#Input: Adding first hidden layer with 121 nodes (input_dim is the number of columns in the input layer, activation refers to how the nodes/neurons are activated)\n",
    "model.add(Dense(121,input_dim=132,activation='relu'))\n",
    "\n",
    "#Processing: Adding the hidden layer with 242 nodes\n",
    "model.add(Dense(242,activation='relu'))\n",
    "\n",
    "#Output: Adding the output layer with 121 nodes (activation used has to be softmax since we are dealing with categorical outputs or targets)\n",
    "model.add(Dense(121,activation='softmax'))\n",
    "\n",
    "#Compiling the model (optimizer refers to method to make the adjustment within the model, loss refers to how the difference between the predicted output)\n",
    "model.compile(optimizer='adam',loss='sparse_categorical_crossentropy',metrics=['accuracy'])"
   ]
  },
  {
   "cell_type": "code",
   "execution_count": null,
   "id": "941d584f",
   "metadata": {},
   "outputs": [],
   "source": [
    "#Model summary\n",
    "model.summary()"
   ]
  },
  {
   "cell_type": "code",
   "execution_count": null,
   "id": "89a2193c",
   "metadata": {
    "scrolled": true
   },
   "outputs": [],
   "source": [
    "#Training model\n",
    "# epochs refer to number of times full dataset used to train the model, shuffle tells the model to randomise the arrangement of the dataset after each epoch(if given as Shuffle = True), validation_data allows to input in the test datasets; shows the model accuracy on the test set.\n",
    "n = model.fit(x_train,y_train,epochs=100,shuffle=True,validation_data=(x_test,y_test))"
   ]
  },
  {
   "cell_type": "code",
   "execution_count": null,
   "id": "c89db12f",
   "metadata": {},
   "outputs": [],
   "source": [
    "#Evaluating performance of the model\n",
    "y_predict3 = model.predict(x_test_scale)"
   ]
  },
  {
   "cell_type": "code",
   "execution_count": null,
   "id": "809c7ab4",
   "metadata": {
    "scrolled": false
   },
   "outputs": [],
   "source": [
    "#Model Loss\n",
    "plt.plot(n.history['loss'])\n",
    "plt.plot(n.history['val_loss'])\n",
    "plt.title('Model Loss')\n",
    "plt.ylabel('Loss')\n",
    "plt.xlabel('Epoch')\n",
    "plt.legend(['Training Loss', 'Validation Loss'], loc = 'upper right')\n",
    "plt.show()"
   ]
  },
  {
   "cell_type": "markdown",
   "id": "3c67251c",
   "metadata": {},
   "source": [
    "Training loss: \n",
    "- assess how a deep learning model fits traning data\n",
    "- assess error of model in training set\n",
    "- sum of errors for each example in the training set\n",
    "\n",
    "Validation loss: \n",
    "- assess the performance of deep learning model on validation set\n",
    "    - validation set: portion of dataset set aside to validate performance of model\n",
    "- sum of the errors for each example in the validation set"
   ]
  },
  {
   "cell_type": "code",
   "execution_count": null,
   "id": "a3858598",
   "metadata": {},
   "outputs": [],
   "source": [
    "plt.plot(n.history['accuracy'])\n",
    "plt.plot(n.history['val_accuracy'])\n",
    "plt.title('Model accuracy')\n",
    "plt.ylabel('Accuracy')\n",
    "plt.xlabel('Epoch')\n",
    "plt.legend(['Training Accuracy', 'Validation Accuracy'], loc='lower right')\n",
    "plt.show()"
   ]
  },
  {
   "cell_type": "markdown",
   "id": "4b5278ea",
   "metadata": {},
   "source": [
    "Training accuracy:\n",
    "- accuracy of a model on the data it was trained on\n",
    "\n",
    "Validation accuracy:\n",
    "- accuracy of a model on new data"
   ]
  },
  {
   "cell_type": "code",
   "execution_count": null,
   "id": "510ac5df",
   "metadata": {},
   "outputs": [],
   "source": [
    "#To find the index/class with the highest probability along the specified axis (axis = 1 gives maximum value along each row)\n",
    "predicted_class = np.argmax(y_predict3, axis=1)"
   ]
  },
  {
   "cell_type": "code",
   "execution_count": null,
   "id": "667580b2",
   "metadata": {},
   "outputs": [],
   "source": [
    "#Neural Network Model Evaluation\n",
    "Nmetrics = class_calculate_metrics(y_test, predicted_class)\n",
    "print(\"Neural Network Model Metrics:\")\n",
    "\n",
    "for n in Nmetrics:\n",
    "    print(n, \": \", Nmetrics[n], sep = \"\")"
   ]
  },
  {
   "cell_type": "code",
   "execution_count": null,
   "id": "69cd5000",
   "metadata": {},
   "outputs": [],
   "source": [
    "nactual = encoder.inverse_transform(y_test)\n",
    "npredicted = encoder.inverse_transform(predicted_class)"
   ]
  },
  {
   "cell_type": "code",
   "execution_count": null,
   "id": "3af77997",
   "metadata": {},
   "outputs": [],
   "source": [
    "n = []\n",
    "for i in range(len(npredicted)):\n",
    "    n.append([nactual[i], npredicted[i]])\n",
    "\n",
    "ncolumns = [\"Actual\", \"Predicted\"]\n",
    "\n",
    "print(tabulate(n, ncolumns, tablefmt=\"fancy_grid\"))"
   ]
  },
  {
   "cell_type": "markdown",
   "id": "77c053c5",
   "metadata": {},
   "source": [
    "## Random Forest Regression"
   ]
  },
  {
   "cell_type": "markdown",
   "id": "0a8e3165",
   "metadata": {},
   "source": [
    "- Fundamental idea: combine many decision trees into single model"
   ]
  },
  {
   "cell_type": "code",
   "execution_count": null,
   "id": "90503ab2",
   "metadata": {},
   "outputs": [],
   "source": [
    "#Training\n",
    "# random_state controls randomness of the sample (usually 0 or 42)\n",
    "rf_model = RandomForestRegressor(random_state=42)\n",
    "rf_model.fit(x_train_scale, y_train,y_train)"
   ]
  },
  {
   "cell_type": "code",
   "execution_count": null,
   "id": "9abb1704",
   "metadata": {},
   "outputs": [],
   "source": [
    "#Evaluating performance of the model\n",
    "y_predict4 = rf_model.predict(x_test_scale)"
   ]
  },
  {
   "cell_type": "code",
   "execution_count": null,
   "id": "5c9e4222",
   "metadata": {},
   "outputs": [],
   "source": [
    "#Random Forest Regression Model Evaluation\n",
    "RFmetrics = reg_calculate_metrics(y_test, y_predict4)\n",
    "print(\"Random Forest Regression Model Metrics:\")\n",
    "\n",
    "for rf in RFmetrics:\n",
    "    print(rf, \": \", RFmetrics[rf], sep = \"\")"
   ]
  },
  {
   "cell_type": "code",
   "execution_count": null,
   "id": "00d1a801",
   "metadata": {},
   "outputs": [],
   "source": [
    "rpredicted = encoder.inverse_transform(y_predict4.astype(int))\n",
    "ractual = encoder.inverse_transform(y_test)"
   ]
  },
  {
   "cell_type": "code",
   "execution_count": null,
   "id": "e53b6f38",
   "metadata": {},
   "outputs": [],
   "source": [
    "rp = []\n",
    "for i in range(len(rpredicted)):\n",
    "    rp.append([ractual[i], rpredicted[i]])\n",
    "\n",
    "rpcolumns = [\"Actual\", \"Predicted\"]\n",
    "\n",
    "print(tabulate(rp, rpcolumns, tablefmt=\"fancy_grid\"))"
   ]
  },
  {
   "cell_type": "markdown",
   "id": "d6b002e2",
   "metadata": {},
   "source": [
    "## Linear Regression"
   ]
  },
  {
   "cell_type": "markdown",
   "id": "20bc60b6",
   "metadata": {},
   "source": [
    "- predicts the value of unknown data by using another related and known data value"
   ]
  },
  {
   "cell_type": "code",
   "execution_count": null,
   "id": "2cf9963a",
   "metadata": {},
   "outputs": [],
   "source": [
    "#Training\n",
    "reg = LinearRegression()\n",
    "reg.fit(x_train_scale,y_train)"
   ]
  },
  {
   "cell_type": "code",
   "execution_count": null,
   "id": "b48f39cc",
   "metadata": {},
   "outputs": [],
   "source": [
    "#Evaluating performance of the model\n",
    "y_predict5 = reg.predict(x_test_scale)"
   ]
  },
  {
   "cell_type": "code",
   "execution_count": null,
   "id": "c7b9b9b8",
   "metadata": {},
   "outputs": [],
   "source": [
    "#Linear Regression Model Evaluation\n",
    "LRmetrics = reg_calculate_metrics(y_test, y_predict5)\n",
    "print(\"Linear Regression Model Metrics:\")\n",
    "\n",
    "for lr in LRmetrics:\n",
    "    print(lr, \": \", LRmetrics[lr], sep = \"\")"
   ]
  },
  {
   "cell_type": "code",
   "execution_count": null,
   "id": "ad62aa4d",
   "metadata": {},
   "outputs": [],
   "source": [
    "lpredicted = encoder.inverse_transform(y_predict5.astype(int))\n",
    "lactual = encoder.inverse_transform(y_test)"
   ]
  },
  {
   "cell_type": "code",
   "execution_count": null,
   "id": "2e77ff48",
   "metadata": {
    "scrolled": true
   },
   "outputs": [],
   "source": [
    "l = []\n",
    "for i in range(len(lpredicted)):\n",
    "    l.append([lactual[i], lpredicted[i]])\n",
    "\n",
    "lcolumns = [\"Actual\", \"Predicted\"]\n",
    "\n",
    "print(tabulate(l, lcolumns, tablefmt=\"fancy_grid\"))"
   ]
  },
  {
   "cell_type": "markdown",
   "id": "ee2f0be3",
   "metadata": {},
   "source": [
    "## Logistic Regression"
   ]
  },
  {
   "cell_type": "markdown",
   "id": "b148313c",
   "metadata": {},
   "source": [
    "- used for classification and predictive analytics \n",
    "- estimates the probability of an event occurring based on a given dataset of independent variables.\n",
    "- used when the dependent variable is categorical."
   ]
  },
  {
   "cell_type": "code",
   "execution_count": null,
   "id": "1a89b456",
   "metadata": {},
   "outputs": [],
   "source": [
    "#Training\n",
    "lr = LogisticRegression()\n",
    "lr.fit(x_train_scale,y_train)"
   ]
  },
  {
   "cell_type": "code",
   "execution_count": null,
   "id": "6acb4c72",
   "metadata": {},
   "outputs": [],
   "source": [
    "#Evaluating performance of the model\n",
    "y_predict6 = lr.predict(x_test_scale)"
   ]
  },
  {
   "cell_type": "code",
   "execution_count": null,
   "id": "3a72d182",
   "metadata": {},
   "outputs": [],
   "source": [
    "#Logistic Regression Model Evaluation\n",
    "LR2metrics = reg_calculate_metrics(y_test, y_predict6)\n",
    "print(\"Logistic Regression Model Metrics:\")\n",
    "\n",
    "for lr2 in LR2metrics:\n",
    "    print(lr2, \": \", LR2metrics[lr2], sep = \"\")"
   ]
  },
  {
   "cell_type": "code",
   "execution_count": null,
   "id": "0d5e1b62",
   "metadata": {},
   "outputs": [],
   "source": [
    "lrpredicted = encoder.inverse_transform(y_predict6.astype(int))\n",
    "lractual = encoder.inverse_transform(y_test)"
   ]
  },
  {
   "cell_type": "code",
   "execution_count": null,
   "id": "90f0529b",
   "metadata": {},
   "outputs": [],
   "source": [
    "lr = []\n",
    "for i in range(len(lrpredicted)):\n",
    "    lr.append([lractual[i], lrpredicted[i]])\n",
    "\n",
    "lrcolumns = [\"Actual\", \"Predicted\"]\n",
    "\n",
    "print(tabulate(lr, lrcolumns, tablefmt=\"fancy_grid\"))"
   ]
  },
  {
   "cell_type": "markdown",
   "id": "cdec0131",
   "metadata": {},
   "source": [
    "# GUI"
   ]
  },
  {
   "cell_type": "code",
   "execution_count": null,
   "id": "485f61bd",
   "metadata": {},
   "outputs": [],
   "source": [
    "v = ['Itching','Skin Rash','Nodal Skin Eruptions','Continuous Sneezing','Shivering','Chills','Joint Pain','Stomach Pain','Acidity','Ulcers On Tongue','Muscle Wasting','Vomiting','Burning Micturition','Spotting Urination','Fatigue','Weight Gain','Anxiety','Cold Hands And Feets','Mood Swings','Weight Loss','Restlessness','Lethargy','Patches In Throat','Irregular Sugar Level','Cough','High Fever','Sunken Eyes','Breathlessness','Sweating','Dehydration','Indigestion','Headache','Yellowish Skin','Dark Urine','Nausea','Loss Of Appetite','Pain Behind The Eye','Back Pain','Constipation','Abdominal Pain','Diarrhoea','Mild Fever','Yellow Urine','Yellowing Of Eyes','Acute Liver Failure','Swelling Of Stomach','Swelled Lymph Nodes','Malaise','Blurred And Distorted Vision','Phlegm','Throat Irritation','Redness Of Eyes','Sinus Pressure','Runny Nose','Congestion','Chest Pain','Weakness In Limbs','Fast Heart Rate','Pain During Bowel Movements','Pain In Anal Region','Bloody Stool','Irritation In Anus','Neck Pain','Dizziness','Cramps','Bruising','Obesity','Swollen Legs','Swollen Blood Vessels','Puffy Face And Eyes','Enlarged Thyroid','Brittle Nails','Swollen Extremeties','Excessive Hunger','Extra Marital Contacts','Drying And Tingling Lips','Slurred Speech','Knee Pain','Hip Joint Pain','Muscle Weakness','Stiff Neck','Swelling Joints','Movement Stiffness','Spinning Movements','Loss Of Balance','Unsteadiness','Weakness Of One Body Side','Loss Of Smell','Bladder Discomfort','Foul Smell Of Urine','Continuous Feel Of Urine','Passage Of Gases','Internal Itching','Toxic Look (typhos)','Depression','Irritability','Muscle Pain','Altered Sensorium','Red Spots Over Body','Belly Pain','Abnormal Menstruation','Dischromic Patches','Watering From Eyes','Increased Appetite','Polyuria','Family History','Mucoid Sputum','Rusty Sputum','Lack Of Concentration','Visual Disturbances','Receiving Blood Transfusion','Receiving Unsterile Injections','Coma','Stomach Bleeding','Distention Of Abdomen','History Of Alcohol Consumption','Blood In Sputum','Prominent Veins On Calf','Palpitations','Painful Walking','Pus Filled Pimples','Blackheads','Scurring','Skin Peeling','Silver Like Dusting','Small Dents In Nails','Inflammatory Nails','Blister','Red Sore Around Nose','Yellow Crust Ooze',]"
   ]
  },
  {
   "cell_type": "code",
   "execution_count": null,
   "id": "e1286e64",
   "metadata": {
    "scrolled": true
   },
   "outputs": [],
   "source": [
    "def predict_disease(input_array):\n",
    "    input_array = np.array(input_array).reshape(1, -1)\n",
    "    prediction = lr.predict(input_array)  \n",
    "    predicted = encoder.inverse_transform(prediction)\n",
    "    return predicted\n",
    "\n",
    "\n",
    "input_choices = v.copy()\n",
    "\n",
    "def convert_array(selected_choices):\n",
    "    input_array = [1 if choice in selected_choices else 0 for choice in input_choices]\n",
    "    return input_array\n",
    "\n",
    "app = gr.Interface(\n",
    "    fn=predict_disease,\n",
    "    inputs=[gr.components.CheckboxGroup(input_choices, type=\"index\", label = \"Select the Symptoms\")],\n",
    "    outputs=\"text\"\n",
    ")\n",
    "\n",
    "app.launch()\n"
   ]
  }
 ],
 "metadata": {
  "kernelspec": {
   "display_name": "Python 3 (ipykernel)",
   "language": "python",
   "name": "python3"
  },
  "language_info": {
   "codemirror_mode": {
    "name": "ipython",
    "version": 3
   },
   "file_extension": ".py",
   "mimetype": "text/x-python",
   "name": "python",
   "nbconvert_exporter": "python",
   "pygments_lexer": "ipython3",
   "version": "3.7.16"
  }
 },
 "nbformat": 4,
 "nbformat_minor": 5
}
